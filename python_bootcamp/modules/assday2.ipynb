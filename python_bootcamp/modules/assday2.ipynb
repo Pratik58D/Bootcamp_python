{
 "cells": [
  {
   "cell_type": "code",
   "execution_count": null,
   "id": "23413500",
   "metadata": {},
   "outputs": [],
   "source": [
    "import numisodd\n",
    "numisodd.oddfunc(8)"
   ]
  },
  {
   "cell_type": "code",
   "execution_count": null,
   "id": "e9ecb02e",
   "metadata": {},
   "outputs": [],
   "source": [
    "import numisodd\n",
    "numisodd.rangeodd(1,15)"
   ]
  },
  {
   "cell_type": "code",
   "execution_count": null,
   "id": "9b5f2ede",
   "metadata": {},
   "outputs": [],
   "source": [
    "import even\n",
    "even.evenfunc(3)"
   ]
  },
  {
   "cell_type": "code",
   "execution_count": null,
   "id": "ac4afb88",
   "metadata": {},
   "outputs": [],
   "source": [
    "import even\n",
    "even.evenrange(1,10)"
   ]
  },
  {
   "cell_type": "code",
   "execution_count": 14,
   "id": "6f38a679",
   "metadata": {},
   "outputs": [
    {
     "name": "stdout",
     "output_type": "stream",
     "text": [
      "False\n"
     ]
    },
    {
     "data": {
      "text/plain": [
       "[2, 3, 5, 7]"
      ]
     },
     "execution_count": 14,
     "metadata": {},
     "output_type": "execute_result"
    }
   ],
   "source": [
    "import prime\n",
    "print(prime.isprime(15))\n",
    "prime.rangeprime(2,10)"
   ]
  },
  {
   "cell_type": "code",
   "execution_count": 1,
   "id": "09811017",
   "metadata": {},
   "outputs": [
    {
     "data": {
      "text/plain": [
       "720"
      ]
     },
     "execution_count": 1,
     "metadata": {},
     "output_type": "execute_result"
    }
   ],
   "source": [
    "import fact\n",
    "fact.factorial(5)\n",
    "fact.factorial2(6)"
   ]
  },
  {
   "cell_type": "code",
   "execution_count": null,
   "id": "115bab99",
   "metadata": {},
   "outputs": [],
   "source": []
  }
 ],
 "metadata": {
  "kernelspec": {
   "display_name": "Python 3 (ipykernel)",
   "language": "python",
   "name": "python3"
  },
  "language_info": {
   "codemirror_mode": {
    "name": "ipython",
    "version": 3
   },
   "file_extension": ".py",
   "mimetype": "text/x-python",
   "name": "python",
   "nbconvert_exporter": "python",
   "pygments_lexer": "ipython3",
   "version": "3.11.5"
  }
 },
 "nbformat": 4,
 "nbformat_minor": 5
}
