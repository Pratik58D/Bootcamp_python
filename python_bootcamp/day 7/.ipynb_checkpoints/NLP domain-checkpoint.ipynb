{
 "cells": [
  {
   "cell_type": "markdown",
   "id": "789ed142",
   "metadata": {},
   "source": [
    "# Web scraping and NLP in python"
   ]
  },
  {
   "cell_type": "code",
   "execution_count": null,
   "id": "bbf33d57",
   "metadata": {},
   "outputs": [],
   "source": [
    "import requests\n",
    "import bs4"
   ]
  },
  {
   "cell_type": "markdown",
   "id": "c3e90210",
   "metadata": {},
   "source": [
    "## get our data\n",
    "1. building a connection\n",
    "2. extracting data"
   ]
  },
  {
   "cell_type": "code",
   "execution_count": 63,
   "id": "d7407061",
   "metadata": {},
   "outputs": [
    {
     "data": {
      "text/plain": [
       "<Response [200]>"
      ]
     },
     "execution_count": 63,
     "metadata": {},
     "output_type": "execute_result"
    }
   ],
   "source": [
    "url = \"https://en.wikipedia.org/wiki/Virat_Kohli\"\n",
    "r = requests.get(url)\n",
    "r"
   ]
  },
  {
   "cell_type": "code",
   "execution_count": null,
   "id": "75844502",
   "metadata": {},
   "outputs": [],
   "source": [
    "soup = bs4.BeautifulSoup(r.text,'html.parser')\n",
    "soup"
   ]
  },
  {
   "cell_type": "code",
   "execution_count": 53,
   "id": "ee162912",
   "metadata": {},
   "outputs": [
    {
     "name": "stdout",
     "output_type": "stream",
     "text": [
      "Delhi\n",
      "India Under-19\n",
      "2008–2009: Debut and maiden stint\n",
      "2010–2011: Rise through the ranks\n",
      "2012–2013: ODI ascendancy and ascension to vice-captaincy\n",
      "2014: T20 World Cup and assuming Test-captaincy\n",
      "2015–2016: World Cups and limited-over success\n",
      "2017–2018: Dominant batting and leadership\n",
      "2019–2020: Record breaking captaincy and batting woes\n",
      "2021–2022: Captaincy exit and resurgence\n",
      "2023–present\n",
      "Royal Challengers Bangalore\n",
      "Playing style\n",
      "Aggression\n",
      "Comparisons to Sachin Tendulkar\n",
      "Personal life\n",
      "Commercial investments\n",
      "Philanthropy\n",
      "Test match performance\n",
      "ODI match performance\n",
      "T20I match performance\n",
      "National honours\n",
      "Sporting honours\n",
      "Other honours and awards\n",
      "Bibliography\n"
     ]
    }
   ],
   "source": [
    "headers=[]\n",
    "for url in soup.find_all(\"h3\"):\n",
    "    headers.append(url.text)\n",
    "    print(url.text)\n",
    "    "
   ]
  },
  {
   "cell_type": "code",
   "execution_count": 54,
   "id": "c0e4ad2d",
   "metadata": {},
   "outputs": [
    {
     "name": "stdout",
     "output_type": "stream",
     "text": [
      "['Delhi', 'India Under-19', '2008–2009: Debut and maiden stint', '2010–2011: Rise through the ranks', '2012–2013: ODI ascendancy and ascension to vice-captaincy', '2014: T20 World Cup and assuming Test-captaincy', '2015–2016: World Cups and limited-over success', '2017–2018: Dominant batting and leadership', '2019–2020: Record breaking captaincy and batting woes', '2021–2022: Captaincy exit and resurgence', '2023–present', 'Royal Challengers Bangalore', 'Playing style', 'Aggression', 'Comparisons to Sachin Tendulkar', 'Personal life', 'Commercial investments', 'Philanthropy', 'Test match performance', 'ODI match performance', 'T20I match performance', 'National honours', 'Sporting honours', 'Other honours and awards', 'Bibliography']\n"
     ]
    }
   ],
   "source": [
    "print(headers)"
   ]
  },
  {
   "cell_type": "code",
   "execution_count": 55,
   "id": "038232be",
   "metadata": {},
   "outputs": [
    {
     "name": "stdout",
     "output_type": "stream",
     "text": [
      "['Delhi', 'India Under-19', '2008–2009: Debut and maiden stint', '2010–2011: Rise through the ranks', '2012–2013: ODI ascendancy and ascension to vice-captaincy', '2014: T20 World Cup and assuming Test-captaincy', '2015–2016: World Cups and limited-over success', '2017–2018: Dominant batting and leadership', '2019–2020: Record breaking captaincy and batting woes', '2021–2022: Captaincy exit and resurgence', '2023–present', 'Royal Challengers Bangalore', 'Playing style', 'Aggression', 'Comparisons to Sachin Tendulkar', 'Personal life', 'Commercial investments', 'Philanthropy', 'Test match performance', 'ODI match performance', 'T20I match performance', 'National honours', 'Sporting honours', 'Other honours and awards', 'Bibliography']\n"
     ]
    }
   ],
   "source": [
    "# to get rid of h1 which are not in body\n",
    "i = len(headers)-1\n",
    "counter = 0\n",
    "while counter <= i:\n",
    "    if headers[counter].startswith('\\n'):\n",
    "        headers.pop(counter)\n",
    "        counter +=1\n",
    "    counter +=1\n",
    "    i=len(headers)-1\n",
    "\n",
    "print(headers)"
   ]
  },
  {
   "cell_type": "code",
   "execution_count": 66,
   "id": "ab81faf5",
   "metadata": {},
   "outputs": [
    {
     "name": "stdout",
     "output_type": "stream",
     "text": [
      "Kohli's junior cricket career kicked off in October 2002 at the Luhnu cricket ground in a match against the host state of Himachal Pradesh. In his debut match, Kohli managed to score a total of fifteen runs. His first half-century in national cricket came at Ferozeshah Kotla, where he scored 70 runs against Haryana.[20] By the end of the season, Kohli had amassed a total of 172 runs, emerging as the highest run-scorer for his side with an average of 34.40.[21] During the 2003–04 season, Kohli was appointed as the captain of the Under-15 team. In his first match of the season, he scored 54 runs in Delhi's victory over Himachal Pradesh. In the next fixture against Jammu and Kashmir, Kohli scored his maiden century with a score of 119 in a BCCI-conducted game. By the end of the season, he had amassed a total of 390 runs at an average of 78, which included two centuries.[22][23] Towards the end of 2004, Kohli earned selection for the 2004–05 Vijay Merchant Trophy with the Delhi Under-17 team. In the four matches that he played, Kohli accumulated a total of 470 runs, with his highest score being 251* runs. The team's coach, Ajit Chaudhary, lauded his performance and was particularly impressed with his temperament on the field.[24][25] Kohli commenced the 2005–06 season with a score of 227 against Punjab. Following their victory over Uttar Pradesh in the quarter-finals, Delhi was scheduled to play against Baroda in the semi-finals. The team had high expectations from Kohli, who had promised his coach to finish the job. True to his word, Kohli went on to score 228 runs, leading Delhi to victory. The team later secured the tournament with a five-wicket win over Mumbai, where he contributed with a half-century in the first innings.[26] He ended as the highest run-scorer with a total of 757 runs from 7 matches, averaging 84.11.[27]\n",
      "\n"
     ]
    },
    {
     "name": "stderr",
     "output_type": "stream",
     "text": [
      "C:\\Users\\Dell\\AppData\\Local\\Temp\\ipykernel_12020\\1851092425.py:2: DeprecationWarning: The 'text' argument to find()-type methods is deprecated. Use 'string' instead.\n",
      "  find_h3 = soup.find('h3',text =headers[0])\n"
     ]
    }
   ],
   "source": [
    "soup = bs4.BeautifulSoup(r.text,\"html.parser\")\n",
    "find_h3 = soup.find('h3',text =headers[0])\n",
    "para = find_h3.find_next_sibling('p')\n",
    "print(para.get_text())"
   ]
  },
  {
   "cell_type": "code",
   "execution_count": 68,
   "id": "5e791ee1",
   "metadata": {},
   "outputs": [
    {
     "name": "stdout",
     "output_type": "stream",
     "text": [
      "Kohli's junior cricket career kicked off in October 2002 at the Luhnu cricket ground in a match against the host state of Himachal Pradesh. In his debut match, Kohli managed to score a total of fifteen runs. His first half-century in national cricket came at Ferozeshah Kotla, where he scored 70 runs against Haryana.[20] By the end of the season, Kohli had amassed a total of 172 runs, emerging as the highest run-scorer for his side with an average of 34.40.[21] During the 2003–04 season, Kohli was appointed as the captain of the Under-15 team. In his first match of the season, he scored 54 runs in Delhi's victory over Himachal Pradesh. In the next fixture against Jammu and Kashmir, Kohli scored his maiden century with a score of 119 in a BCCI-conducted game. By the end of the season, he had amassed a total of 390 runs at an average of 78, which included two centuries.[22][23] Towards the end of 2004, Kohli earned selection for the 2004–05 Vijay Merchant Trophy with the Delhi Under-17 team. In the four matches that he played, Kohli accumulated a total of 470 runs, with his highest score being 251* runs. The team's coach, Ajit Chaudhary, lauded his performance and was particularly impressed with his temperament on the field.[24][25] Kohli commenced the 2005–06 season with a score of 227 against Punjab. Following their victory over Uttar Pradesh in the quarter-finals, Delhi was scheduled to play against Baroda in the semi-finals. The team had high expectations from Kohli, who had promised his coach to finish the job. True to his word, Kohli went on to score 228 runs, leading Delhi to victory. The team later secured the tournament with a five-wicket win over Mumbai, where he contributed with a half-century in the first innings.[26] He ended as the highest run-scorer with a total of 757 runs from 7 matches, averaging 84.11.[27]\n",
      "\n",
      "On 18 February 2006, Kohli made his debut in List A cricket, playing against Services in the Ranji One-Day Trophy, but he did not have the opportunity to bat during the match.[28] In 2006, Kohli had garnered enough attention to earn a spot in the state senior team. Subsequently, he made his first-class debut on 23 November 2006, during the opening match of the Ranji Trophy season against Tamil Nadu. However, his debut innings was a brief one, as he was dismissed after scoring ten runs.[29] In a sequence of three matches, Kohli failed to score a fifty, leading his coaches to provide him with counselling. In the subsequent match against former champions, Karnataka, Delhi found themselves trailing with a score of 130/5, with Kohli remaining unbeaten on 40 at the end of the day's play. That very night, Kohli's father passed away at 3:54 a.m. Despite the heart-wrenching news, Kohli returned to the match and continued to bat and scored 90 runs before he was dismissed.[30] The team's coach, Chetan Chauhan was impressed by Kohli's resolute determination and unwavering attitude in the face of adversity. Venkatesh Prasad also lauded his crucial knock, which was executed in the midst of an emotional upheaval.[31] Following his dismissal, Kohli immediately attended his father's funeral. His innings, however, proved to be crucial for Delhi as they were able to avoid the follow-on. The team's captain, Mithun Manhas, praised Kohli for his performance, acknowledging its pivotal role in the team's success.[31]\n",
      "\n",
      "Kohli's foray into T20 cricket took place in April 2007, during the Inter-State T20 Championship, where he emerged as the top run-getter for his team with a tally of 179 runs at an average of 35.80.[32] In September 2008, Kohli played in Nissar Trophy against SNGPL (reigning champions of the Quaid-i-Azam Trophy from Pakistan). He emerged as the leading scorer for Delhi in both innings, registering 52 runs in the first innings and a towering 197 in the second. The match ultimately ended in a draw, SNGPL being declared the victors due to their lead in first innings.[33] In the 2009–10 Ranji Trophy season, Kohli returned to domestic cricket. During a match against Maharastra, he opened the batting and scored 67 runs, helping Delhi to secure the bonus point required for victory.[34] Kohli's performance reinvigorated the competitive spirit of the domestic cricket circuit. Ashish Nehra observed his growth over time and shared his thoughts:[35]\n",
      "\n"
     ]
    },
    {
     "name": "stderr",
     "output_type": "stream",
     "text": [
      "C:\\Users\\Dell\\AppData\\Local\\Temp\\ipykernel_12020\\3802845343.py:3: DeprecationWarning: The 'text' argument to find()-type methods is deprecated. Use 'string' instead.\n",
      "  find_h3 = soup.find('h3',text = headers[0])\n"
     ]
    }
   ],
   "source": [
    "r = requests.get(url)\n",
    "soup= bs4.BeautifulSoup(r.text,'html.parser')\n",
    "find_h3 = soup.find('h3',text = headers[0])\n",
    "for para in find_h3.find_next_siblings():\n",
    "    if para.name == \"h2\" or para.name == \"h3\":\n",
    "        break\n",
    "    elif para.name == \"p\":\n",
    "        print(para.get_text())\n"
   ]
  },
  {
   "cell_type": "code",
   "execution_count": 71,
   "id": "22997df3",
   "metadata": {},
   "outputs": [
    {
     "name": "stderr",
     "output_type": "stream",
     "text": [
      "C:\\Users\\Dell\\AppData\\Local\\Temp\\ipykernel_12020\\546279460.py:3: DeprecationWarning: The 'text' argument to find()-type methods is deprecated. Use 'string' instead.\n",
      "  find_h3 = soup.find('h3',text = headers[iteri])\n"
     ]
    },
    {
     "ename": "AttributeError",
     "evalue": "'NoneType' object has no attribute 'find_next_siblings'",
     "output_type": "error",
     "traceback": [
      "\u001b[1;31m---------------------------------------------------------------------------\u001b[0m",
      "\u001b[1;31mAttributeError\u001b[0m                            Traceback (most recent call last)",
      "Cell \u001b[1;32mIn[71], line 4\u001b[0m\n\u001b[0;32m      2\u001b[0m \u001b[38;5;28;01mfor\u001b[39;00m iteri \u001b[38;5;129;01min\u001b[39;00m \u001b[38;5;28mrange\u001b[39m(\u001b[38;5;28mlen\u001b[39m(headers)):\n\u001b[0;32m      3\u001b[0m     find_h3 \u001b[38;5;241m=\u001b[39m soup\u001b[38;5;241m.\u001b[39mfind(\u001b[38;5;124m'\u001b[39m\u001b[38;5;124mh3\u001b[39m\u001b[38;5;124m'\u001b[39m,text \u001b[38;5;241m=\u001b[39m headers[iteri])\n\u001b[1;32m----> 4\u001b[0m     \u001b[38;5;28;01mfor\u001b[39;00m para \u001b[38;5;129;01min\u001b[39;00m find_h3\u001b[38;5;241m.\u001b[39mfind_next_siblings():\n\u001b[0;32m      5\u001b[0m         \u001b[38;5;28;01mif\u001b[39;00m para\u001b[38;5;241m.\u001b[39mname \u001b[38;5;241m==\u001b[39m \u001b[38;5;124m\"\u001b[39m\u001b[38;5;124mh2\u001b[39m\u001b[38;5;124m\"\u001b[39m \u001b[38;5;129;01mor\u001b[39;00m para\u001b[38;5;241m.\u001b[39mname \u001b[38;5;241m==\u001b[39m \u001b[38;5;124m'\u001b[39m\u001b[38;5;124mh3\u001b[39m\u001b[38;5;124m'\u001b[39m:\n\u001b[0;32m      6\u001b[0m             \u001b[38;5;28;01mbreak\u001b[39;00m\n",
      "\u001b[1;31mAttributeError\u001b[0m: 'NoneType' object has no attribute 'find_next_siblings'"
     ]
    }
   ],
   "source": [
    "all_para =\"\"\n",
    "for iteri in range(len(headers)):\n",
    "    find_h3 = soup.find('h3',text = headers[iteri])\n",
    "    for para in find_h3.find_next_siblings():\n",
    "        if para.name == \"h2\" or para.name == 'h3':\n",
    "            break\n",
    "        elif para.name == \"p\":\n",
    "            all_para += para.get_text()\n",
    "            all_para += '\\n'\n",
    "\n",
    "print(all_para)"
   ]
  },
  {
   "cell_type": "code",
   "execution_count": null,
   "id": "8f49929d",
   "metadata": {},
   "outputs": [],
   "source": []
  },
  {
   "cell_type": "code",
   "execution_count": null,
   "id": "2145c485",
   "metadata": {},
   "outputs": [],
   "source": []
  },
  {
   "cell_type": "code",
   "execution_count": null,
   "id": "b923adfb",
   "metadata": {},
   "outputs": [],
   "source": []
  }
 ],
 "metadata": {
  "kernelspec": {
   "display_name": "Python 3 (ipykernel)",
   "language": "python",
   "name": "python3"
  },
  "language_info": {
   "codemirror_mode": {
    "name": "ipython",
    "version": 3
   },
   "file_extension": ".py",
   "mimetype": "text/x-python",
   "name": "python",
   "nbconvert_exporter": "python",
   "pygments_lexer": "ipython3",
   "version": "3.11.5"
  }
 },
 "nbformat": 4,
 "nbformat_minor": 5
}
