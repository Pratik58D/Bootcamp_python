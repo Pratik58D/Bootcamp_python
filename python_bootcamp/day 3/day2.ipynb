{
 "cells": [
  {
   "cell_type": "markdown",
   "id": "2fe3dfa6",
   "metadata": {},
   "source": [
    "***functions in python\n"
   ]
  },
  {
   "cell_type": "code",
   "execution_count": 2,
   "id": "4f250181",
   "metadata": {},
   "outputs": [
    {
     "name": "stdout",
     "output_type": "stream",
     "text": [
      "this is odd number\n"
     ]
    }
   ],
   "source": [
    "def oddfunc(n):\n",
    "    if n % 2 !=0:\n",
    "        print(\"this is odd number\")\n",
    "    else:\n",
    "        print(\"this is not odd number\")\n",
    "\n",
    "oddfunc(9)\n",
    "    "
   ]
  },
  {
   "cell_type": "code",
   "execution_count": 4,
   "id": "4bb43682",
   "metadata": {},
   "outputs": [
    {
     "name": "stdout",
     "output_type": "stream",
     "text": [
      "enter the first number\n"
     ]
    },
    {
     "ename": "ValueError",
     "evalue": "invalid literal for int() with base 10: ''",
     "output_type": "error",
     "traceback": [
      "\u001b[1;31m---------------------------------------------------------------------------\u001b[0m",
      "\u001b[1;31mValueError\u001b[0m                                Traceback (most recent call last)",
      "Cell \u001b[1;32mIn[4], line 2\u001b[0m\n\u001b[0;32m      1\u001b[0m \u001b[38;5;66;03m#without function\u001b[39;00m\n\u001b[1;32m----> 2\u001b[0m start \u001b[38;5;241m=\u001b[39m \u001b[38;5;28mint\u001b[39m(\u001b[38;5;28minput\u001b[39m(\u001b[38;5;124m\"\u001b[39m\u001b[38;5;124menter the first number\u001b[39m\u001b[38;5;124m\"\u001b[39m))\n\u001b[0;32m      3\u001b[0m end \u001b[38;5;241m=\u001b[39m \u001b[38;5;28mint\u001b[39m(\u001b[38;5;28minput\u001b[39m(\u001b[38;5;124m\"\u001b[39m\u001b[38;5;124menter the last number\u001b[39m\u001b[38;5;124m\"\u001b[39m))\n\u001b[0;32m      5\u001b[0m \u001b[38;5;28;01mfor\u001b[39;00m num \u001b[38;5;129;01min\u001b[39;00m \u001b[38;5;28mrange\u001b[39m(start,end\u001b[38;5;241m+\u001b[39m\u001b[38;5;241m1\u001b[39m):\n",
      "\u001b[1;31mValueError\u001b[0m: invalid literal for int() with base 10: ''"
     ]
    }
   ],
   "source": [
    "#without function\n",
    "start = int(input(\"enter the first number\"))\n",
    "end = int(input(\"enter the last number\"))\n",
    "\n",
    "for num in range(start,end+1):\n",
    "    if num % 2!=0:\n",
    "        print(num)\n"
   ]
  },
  {
   "cell_type": "code",
   "execution_count": 5,
   "id": "d809a43b",
   "metadata": {},
   "outputs": [
    {
     "name": "stdout",
     "output_type": "stream",
     "text": [
      "[1, 3, 5, 7, 9, 11, 13, 15, 17, 19]\n"
     ]
    }
   ],
   "source": [
    "# with functuon\n",
    "def find_odd_numbers(start, end):\n",
    "    odd_numbers = []\n",
    "    for num in range(start, end + 1):\n",
    "        if num % 2 != 0:\n",
    "            odd_numbers.append(num)\n",
    "    return odd_numbers\n",
    "\n",
    "\n",
    "print(find_odd_numbers(1, 20))\n",
    "\n",
    "    "
   ]
  },
  {
   "cell_type": "code",
   "execution_count": 6,
   "id": "60e58c03",
   "metadata": {},
   "outputs": [
    {
     "data": {
      "text/plain": [
       "15"
      ]
     },
     "execution_count": 6,
     "metadata": {},
     "output_type": "execute_result"
    }
   ],
   "source": [
    "#functions in python\n",
    "def add(num1,num2):      #arguments\n",
    "    c = num1 +num2\n",
    "    return c\n",
    "\n",
    "add(5,4)          #parameter\n",
    "c=8\n",
    "d=7\n",
    "add(c,d)\n",
    " "
   ]
  },
  {
   "cell_type": "code",
   "execution_count": 7,
   "id": "026ed540",
   "metadata": {},
   "outputs": [
    {
     "name": "stdout",
     "output_type": "stream",
     "text": [
      "5 is the greatest\n"
     ]
    }
   ],
   "source": [
    " def isgreater(a,b):\n",
    "    if a>b :\n",
    "        print(a,\"is greatest\")\n",
    "    else:\n",
    "        print(b,\"is the greatest\")\n",
    "\n",
    "def islesser(a,b):\n",
    "    pass\n",
    "\n",
    "\n",
    "isgreater(4,5)"
   ]
  },
  {
   "cell_type": "markdown",
   "id": "68813a3d",
   "metadata": {},
   "source": [
    "function arguments\n",
    "1.default arguments\n",
    "2.\n",
    "3.\n",
    "4."
   ]
  },
  {
   "cell_type": "code",
   "execution_count": 8,
   "id": "84034427",
   "metadata": {},
   "outputs": [
    {
     "name": "stdout",
     "output_type": "stream",
     "text": [
      "the sum is  11\n",
      "my name is  pratik ram Devkota\n"
     ]
    }
   ],
   "source": [
    "#default arguments\n",
    "\n",
    "def  sum(a=5,b=6):\n",
    "    print(\"the sum is \", a+b)\n",
    "\n",
    "sum()\n",
    "\n",
    "def name(fname,Mname=\"ram\",Lname=\"Devkota\"):\n",
    "    print(\"my name is \",fname ,Mname,Lname)\n",
    "\n",
    "name(\"pratik\")\n"
   ]
  },
  {
   "cell_type": "markdown",
   "id": "f783b2d6",
   "metadata": {},
   "source": [
    "return in python\n",
    "we can use it in:\n",
    "      1. returning a value\n",
    "      2.exiting early\n",
    "      3. multiple return = can have multiple but only return                   one at calling\n",
    "      "
   ]
  },
  {
   "cell_type": "code",
   "execution_count": null,
   "id": "41e60a7f",
   "metadata": {},
   "outputs": [],
   "source": [
    "         #1.returning a value\n",
    "def hello():\n",
    "    return \"yo how are you\"\n",
    "\n",
    "print(hello())                 #hello() gets repalced by its \n",
    "                              # return value ie; hello world\n",
    "def sum(a,b):\n",
    "   return a+b\n",
    "c =sum(4,5)        #9\n",
    "print(\"the sum of given two numbers :\",c)\n",
    "\n",
    "         #2.exiting early\n",
    "\n",
    "def divide(a,b):\n",
    "    if b==0:\n",
    "        return \"cannot divide by 0\"\n",
    "    else:\n",
    "        return a/b\n",
    "result = divide(10,0)\n",
    "print(result)\n",
    "\n",
    "       #3.multiple returns\n",
    "def is_even(num):\n",
    "    if num%2 == 0:\n",
    "        return True\n",
    "    else:\n",
    "        return False\n",
    "\n",
    "print(is_even(5))\n",
    "\n"
   ]
  },
  {
   "cell_type": "markdown",
   "id": "776d7060",
   "metadata": {},
   "source": [
    "print vs return\n",
    "#in simple word, print is a funtion where return is keyword \n",
    "#print shows value to the user where return will return to the callerand we can use return value further to other function\n",
    "#also if we don\"t return explicity it will print none\n",
    "\n"
   ]
  },
  {
   "cell_type": "code",
   "execution_count": 9,
   "id": "b333e614",
   "metadata": {},
   "outputs": [
    {
     "name": "stdout",
     "output_type": "stream",
     "text": [
      "9\n",
      "None\n",
      "13\n",
      "19\n"
     ]
    }
   ],
   "source": [
    "def func1(num1,num2):\n",
    "    add = num1+num2\n",
    "    print(add)\n",
    "    \n",
    "output1 = func1(4,5)\n",
    "print(output1)\n",
    "\n",
    "def func2(num3,num4):\n",
    "   return num3+ num4\n",
    "\n",
    "output2 = func2(6,7)\n",
    "print(output2)\n",
    "\n",
    "def func3(x,y):\n",
    "    return x+y\n",
    "\n",
    "final_output=func3(output2,6)      #using the value of func2 by using return\n",
    "print(final_output)\n",
    "\n",
    "\n"
   ]
  },
  {
   "cell_type": "code",
   "execution_count": null,
   "id": "fdbff968",
   "metadata": {},
   "outputs": [],
   "source": [
    "#even function\n",
    "def evenfunc(n):\n",
    "    if n % 2 == 0:\n",
    "        return \"the number is even\"\n",
    "    else:\n",
    "        return \"the number isnot even\"\n",
    "evenfunc(4)\n",
    "    \n"
   ]
  },
  {
   "cell_type": "code",
   "execution_count": null,
   "id": "f2c9d6c2",
   "metadata": {},
   "outputs": [],
   "source": [
    "def rangeeven(start,end):\n",
    "    result=[]\n",
    "    for num in range(start,end+1):\n",
    "        if num % 2==0:\n",
    "            result.append(num) \n",
    "    return result\n",
    "rangeeven(1,10)"
   ]
  },
  {
   "cell_type": "code",
   "execution_count": null,
   "id": "04b20f1a",
   "metadata": {},
   "outputs": [],
   "source": [
    "myvar= range(1,10)\n",
    "for i in myvar:\n",
    "    print(i)"
   ]
  },
  {
   "cell_type": "code",
   "execution_count": null,
   "id": "0a5b3909",
   "metadata": {},
   "outputs": [],
   "source": [
    "def rangeodd(firstnum,lastnum):\n",
    "    result =[]\n",
    "    for num in range(firstnum,lastnum+1):\n",
    "        if num % 2!= 0:\n",
    "            result.append(num)\n",
    "    return result\n",
    "\n",
    "rangeodd(1,10)"
   ]
  },
  {
   "cell_type": "code",
   "execution_count": 3,
   "id": "20070b64",
   "metadata": {},
   "outputs": [
    {
     "name": "stdout",
     "output_type": "stream",
     "text": [
      "it is not prime number\n"
     ]
    }
   ],
   "source": [
    "#prime or not\n",
    "num =15\n",
    "\n",
    "if num <=1:\n",
    "    print(\"it is not prime\")\n",
    "elif num>1:\n",
    "    for i in range(2,num):\n",
    "        if (num % i ==0):\n",
    "            print(\"it is not prime number\")\n",
    "            break\n",
    "        else:\n",
    "            if(num-1==i):\n",
    "                print(\"it is prime number\")  \n",
    "            \n",
    "\n",
    "\n"
   ]
  },
  {
   "cell_type": "code",
   "execution_count": 6,
   "id": "4b195390",
   "metadata": {},
   "outputs": [
    {
     "name": "stdout",
     "output_type": "stream",
     "text": [
      "False\n"
     ]
    }
   ],
   "source": [
    "def isprime(n):\n",
    "    if n <= 1:\n",
    "        return False\n",
    "    elif n == 2:\n",
    "        return True\n",
    "    elif n >1:\n",
    "        for i in range(2,n):\n",
    "            if n % i ==0:\n",
    "                return False\n",
    "            \n",
    "        return True\n",
    "\n",
    "    \n",
    "print(isprime(12))"
   ]
  },
  {
   "cell_type": "code",
   "execution_count": 14,
   "id": "0b071f12",
   "metadata": {},
   "outputs": [
    {
     "data": {
      "text/plain": [
       "[2, 3, 5, 7, 11, 13, 17]"
      ]
     },
     "execution_count": 14,
     "metadata": {},
     "output_type": "execute_result"
    }
   ],
   "source": [
    "def rangeprime(start, end):\n",
    "    primeNumbers=[]\n",
    "    for i in range(start,end+1):\n",
    "        if (isprime(i)):\n",
    "            primeNumbers.append(i)\n",
    "    return primeNumbers\n",
    "    \n",
    "rangeprime(1,17)    \n",
    "    "
   ]
  },
  {
   "cell_type": "code",
   "execution_count": 22,
   "id": "d4e7d844",
   "metadata": {},
   "outputs": [
    {
     "name": "stdout",
     "output_type": "stream",
     "text": [
      "5\n",
      "20\n",
      "60\n",
      "120\n",
      "120\n",
      "120\n"
     ]
    }
   ],
   "source": [
    "fact = 5\n",
    "result=1\n",
    "for i in range(fact,0,-1):\n",
    "    \n",
    "    result*=i\n",
    "    print(result)\n",
    "    \n",
    "print(result)"
   ]
  },
  {
   "cell_type": "code",
   "execution_count": 3,
   "id": "57eeab05",
   "metadata": {},
   "outputs": [
    {
     "data": {
      "text/plain": [
       "6"
      ]
     },
     "execution_count": 3,
     "metadata": {},
     "output_type": "execute_result"
    }
   ],
   "source": [
    "def factorial(num):\n",
    "    result = 1\n",
    "    for i in range(num,0,-1):\n",
    "        result*=i\n",
    "    return result\n",
    "factorial(3)"
   ]
  },
  {
   "cell_type": "code",
   "execution_count": 6,
   "id": "2c899d7e",
   "metadata": {},
   "outputs": [
    {
     "data": {
      "text/plain": [
       "720"
      ]
     },
     "execution_count": 6,
     "metadata": {},
     "output_type": "execute_result"
    }
   ],
   "source": [
    "def factorial2(num):\n",
    "    result =1 \n",
    "    for i in range(1,num+1):\n",
    "        result*=i\n",
    "    return result \n",
    "factorial2(6)"
   ]
  },
  {
   "cell_type": "code",
   "execution_count": 2,
   "id": "ccbe44bc",
   "metadata": {},
   "outputs": [
    {
     "data": {
      "text/plain": [
       "False"
      ]
     },
     "execution_count": 2,
     "metadata": {},
     "output_type": "execute_result"
    }
   ],
   "source": [
    "def checkprime(number):\n",
    "    if number <= 1:\n",
    "        return False\n",
    "    elif number == 2:\n",
    "        return True\n",
    "    elif number >1:\n",
    "        for i in range(2,number):\n",
    "            if number % i ==0:\n",
    "                return False\n",
    "            else:\n",
    "                if(number-1==i):\n",
    "                    return True\n",
    "\n",
    "checkprime(9)"
   ]
  },
  {
   "cell_type": "code",
   "execution_count": 3,
   "id": "04f76bf6",
   "metadata": {},
   "outputs": [
    {
     "data": {
      "text/plain": [
       "[3, 5, 7, 11, 13, 17, 19]"
      ]
     },
     "execution_count": 3,
     "metadata": {},
     "output_type": "execute_result"
    }
   ],
   "source": [
    "def rangeprime(start,end):\n",
    "    result=[]\n",
    "    for num in range(start, end+1):\n",
    "        if checkprime(num):\n",
    "            result.append(num)\n",
    "    return result\n",
    "rangeprime(3,20)"
   ]
  },
  {
   "cell_type": "code",
   "execution_count": null,
   "id": "e6b4ad61",
   "metadata": {},
   "outputs": [],
   "source": []
  }
 ],
 "metadata": {
  "kernelspec": {
   "display_name": "Python 3 (ipykernel)",
   "language": "python",
   "name": "python3"
  },
  "language_info": {
   "codemirror_mode": {
    "name": "ipython",
    "version": 3
   },
   "file_extension": ".py",
   "mimetype": "text/x-python",
   "name": "python",
   "nbconvert_exporter": "python",
   "pygments_lexer": "ipython3",
   "version": "3.11.5"
  }
 },
 "nbformat": 4,
 "nbformat_minor": 5
}
