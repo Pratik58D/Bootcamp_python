{
 "cells": [
  {
   "cell_type": "markdown",
   "id": "38f4331f",
   "metadata": {},
   "source": [
    "*******list #it is created using square bracket #list items are ordered, changeable,allowd uplicate value #list items are indexed, first is [0] then [1] \n",
    "###-ordered = if you add new items in the list it will placed at ####last -changable,mutable=we can add remove items in list"
   ]
  },
  {
   "cell_type": "code",
   "execution_count": 7,
   "id": "ce5c1a1c",
   "metadata": {},
   "outputs": [
    {
     "name": "stdout",
     "output_type": "stream",
     "text": [
      "['cat', 'dog', 'rat']\n",
      "[1, 2, 'dog']\n",
      "3\n",
      "<class 'list'>\n"
     ]
    }
   ],
   "source": [
    "list =[\"cat\",\"dog\",\"rat\"]\n",
    "print(list)\n",
    "list1=[1,2,\"dog\"]\n",
    "print(list1)\n",
    "print(len(list1))\n",
    "print(type(list1))\n"
   ]
  },
  {
   "cell_type": "code",
   "execution_count": 15,
   "id": "0ba3a1f5",
   "metadata": {},
   "outputs": [
    {
     "name": "stdout",
     "output_type": "stream",
     "text": [
      "['syam', 'hari']\n",
      "['ram', 'syam']\n",
      "['syam', 'hari', 'krishna']\n",
      "yes,ram exist in the list\n",
      "['ram', 'syam', 'hari', 'krishna', 'pratik']\n"
     ]
    }
   ],
   "source": [
    "#accessing list items\n",
    "name=[\"ram\",\"syam\",\"hari\",\"krishna\"]\n",
    "print(name[1:3])\n",
    "print(name[:2])  #doesnot includes after 3rd element\n",
    "print(name[1:])\n",
    "if \"ram\" in name:\n",
    "    print(\"yes,ram exist in the list\")\n",
    "name.append(\"pratik\")\n",
    "print(name)"
   ]
  },
  {
   "cell_type": "code",
   "execution_count": 1,
   "id": "f7cb60bc",
   "metadata": {},
   "outputs": [],
   "source": [
    "import numpy as np"
   ]
  },
  {
   "cell_type": "code",
   "execution_count": 2,
   "id": "3f953c52",
   "metadata": {},
   "outputs": [
    {
     "data": {
      "text/plain": [
       "array([1, 2, 3, 4, 5])"
      ]
     },
     "execution_count": 2,
     "metadata": {},
     "output_type": "execute_result"
    }
   ],
   "source": [
    "arry1 = np.array([1,2,3,4,5])\n",
    "arry1"
   ]
  },
  {
   "cell_type": "code",
   "execution_count": null,
   "id": "71316ee3",
   "metadata": {},
   "outputs": [],
   "source": []
  }
 ],
 "metadata": {
  "kernelspec": {
   "display_name": "Python 3 (ipykernel)",
   "language": "python",
   "name": "python3"
  },
  "language_info": {
   "codemirror_mode": {
    "name": "ipython",
    "version": 3
   },
   "file_extension": ".py",
   "mimetype": "text/x-python",
   "name": "python",
   "nbconvert_exporter": "python",
   "pygments_lexer": "ipython3",
   "version": "3.11.5"
  }
 },
 "nbformat": 4,
 "nbformat_minor": 5
}
