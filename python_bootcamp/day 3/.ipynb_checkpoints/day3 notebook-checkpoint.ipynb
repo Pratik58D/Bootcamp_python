{
 "cells": [
  {
   "cell_type": "markdown",
   "id": "4bfbc133",
   "metadata": {},
   "source": [
    "   # Introduction to python libraries\n",
    "         1.NumPy\n",
    "         2.Pandas"
   ]
  },
  {
   "cell_type": "markdown",
   "id": "7489ccc2",
   "metadata": {},
   "source": [
    "# NumPy:\n",
    "\n",
    " <p>1.It is open source python library used for working with arrays<br>\n",
    " 2.It is short for Numerical Python.<br>\n",
    " 3.Numpy api is used extensively in pandas,scipy,matplotlib and       most other data science<br>\n",
    " 4.it contains multidimensional array and matrix data structure<br>\n"
   ]
  },
  {
   "cell_type": "markdown",
   "id": "316b96a2",
   "metadata": {},
   "source": [
    "# Installing NumPy"
   ]
  },
  {
   "cell_type": "markdown",
   "id": "194972fc",
   "metadata": {},
   "source": [
    "If we already have python, we can install NumPy with:"
   ]
  },
  {
   "cell_type": "code",
   "execution_count": 2,
   "id": "2b5f4e39",
   "metadata": {},
   "outputs": [
    {
     "ename": "SyntaxError",
     "evalue": "invalid syntax (1223809328.py, line 3)",
     "output_type": "error",
     "traceback": [
      "\u001b[1;36m  Cell \u001b[1;32mIn[2], line 3\u001b[1;36m\u001b[0m\n\u001b[1;33m    pip install numpy\u001b[0m\n\u001b[1;37m        ^\u001b[0m\n\u001b[1;31mSyntaxError\u001b[0m\u001b[1;31m:\u001b[0m invalid syntax\n"
     ]
    }
   ],
   "source": [
    "#conda install numpy\n",
    "# or\n",
    "pip install numpy"
   ]
  },
  {
   "cell_type": "markdown",
   "id": "cbfa9aca",
   "metadata": {},
   "source": [
    "# importing Numpy\n",
    "we can simply import numpy by:"
   ]
  },
  {
   "cell_type": "code",
   "execution_count": 4,
   "id": "962d9ee3",
   "metadata": {},
   "outputs": [],
   "source": [
    "import numpy as np     # creating a sort name for numpy ie; np"
   ]
  },
  {
   "cell_type": "markdown",
   "id": "794eab79",
   "metadata": {},
   "source": [
    "### why use Numpy?\n",
    "<p>In python we have list but they are slow in process.Numpy is almost 50x faster than traditional list because it is stored in contiguos location.<br>\n",
    " The array object in NumPy is called ndarray, it provides a lot of supporting functions that make working with ndarray very easy.<br>\n",
    "Array are very frequently used in data science,where speed and resources are important. <br>\n",
    "numpy array's value are homogenous where list are heterogeneous\n",
    "<br>   \n",
    "</p>\n",
    "    "
   ]
  },
  {
   "cell_type": "code",
   "execution_count": 5,
   "id": "7207aa3a",
   "metadata": {},
   "outputs": [
    {
     "data": {
      "text/plain": [
       "array([1, 2, 3, 4, 5, 6])"
      ]
     },
     "execution_count": 5,
     "metadata": {},
     "output_type": "execute_result"
    }
   ],
   "source": [
    "#creating a numpy array\n",
    "#single dimensional\n",
    "array1 = np.array([1,2,3,4,5,6])\n",
    "array1\n"
   ]
  },
  {
   "cell_type": "code",
   "execution_count": 6,
   "id": "6392b8c2",
   "metadata": {},
   "outputs": [
    {
     "data": {
      "text/plain": [
       "4"
      ]
     },
     "execution_count": 6,
     "metadata": {},
     "output_type": "execute_result"
    }
   ],
   "source": [
    "array1[3]         #we are acessing the elements using square brackets.\n",
    "                   #indexing starts with at 0.Here we are printing \n",
    "                    #4th element"
   ]
  },
  {
   "cell_type": "code",
   "execution_count": 7,
   "id": "1672ce27",
   "metadata": {},
   "outputs": [
    {
     "data": {
      "text/plain": [
       "array([[1, 2, 3],\n",
       "       [3, 4, 5],\n",
       "       [6, 7, 8]])"
      ]
     },
     "execution_count": 7,
     "metadata": {},
     "output_type": "execute_result"
    }
   ],
   "source": [
    "#two dimensional array\n",
    "array2 = np.array([[1,2,3],[3,4,5],[6,7,8]])\n",
    "array2\n",
    "                   "
   ]
  },
  {
   "cell_type": "code",
   "execution_count": 6,
   "id": "7007d63f",
   "metadata": {},
   "outputs": [
    {
     "data": {
      "text/plain": [
       "4"
      ]
     },
     "execution_count": 6,
     "metadata": {},
     "output_type": "execute_result"
    }
   ],
   "source": [
    "array2[1][1]    #acessing the elements of 2d array.\n",
    "                #first indexing row and then column."
   ]
  },
  {
   "cell_type": "code",
   "execution_count": 7,
   "id": "bd1a392e",
   "metadata": {},
   "outputs": [
    {
     "data": {
      "text/plain": [
       "array([0., 0., 0., 0.])"
      ]
     },
     "execution_count": 7,
     "metadata": {},
     "output_type": "execute_result"
    }
   ],
   "source": [
    "np.zeros(4)        #creating elements with 4 zero element"
   ]
  },
  {
   "cell_type": "code",
   "execution_count": 8,
   "id": "b9389c67",
   "metadata": {},
   "outputs": [
    {
     "data": {
      "text/plain": [
       "array([1., 1., 1.])"
      ]
     },
     "execution_count": 8,
     "metadata": {},
     "output_type": "execute_result"
    }
   ],
   "source": [
    "np.ones(3)"
   ]
  },
  {
   "cell_type": "markdown",
   "id": "5361e96e",
   "metadata": {},
   "source": [
    "Function empty creates an array whose intial content is random\n",
    "and depends on state of memory.empty are faster than zeros"
   ]
  },
  {
   "cell_type": "code",
   "execution_count": 9,
   "id": "67d3c56b",
   "metadata": {},
   "outputs": [
    {
     "data": {
      "text/plain": [
       "array([1., 1., 1.])"
      ]
     },
     "execution_count": 9,
     "metadata": {},
     "output_type": "execute_result"
    }
   ],
   "source": [
    "np.empty(3)"
   ]
  },
  {
   "cell_type": "code",
   "execution_count": 10,
   "id": "3854841b",
   "metadata": {},
   "outputs": [
    {
     "data": {
      "text/plain": [
       "array([0, 1, 2, 3, 4])"
      ]
     },
     "execution_count": 10,
     "metadata": {},
     "output_type": "execute_result"
    }
   ],
   "source": [
    "np.arange(5)   #we can create array with range\n"
   ]
  },
  {
   "cell_type": "code",
   "execution_count": 11,
   "id": "a7d241c2",
   "metadata": {},
   "outputs": [
    {
     "data": {
      "text/plain": [
       "array([10, 12, 14, 16, 18])"
      ]
     },
     "execution_count": 11,
     "metadata": {},
     "output_type": "execute_result"
    }
   ],
   "source": [
    "np.arange(10,20,2)   #we are specify firstnumber,lastnumber,step\n",
    "                     #to get range of array with same interval"
   ]
  },
  {
   "cell_type": "code",
   "execution_count": 15,
   "id": "6e8b0307",
   "metadata": {},
   "outputs": [
    {
     "data": {
      "text/plain": [
       "array([ 0. ,  2.5,  5. ,  7.5, 10. ])"
      ]
     },
     "execution_count": 15,
     "metadata": {},
     "output_type": "execute_result"
    }
   ],
   "source": [
    "np.linspace(0,10,num=5)"
   ]
  },
  {
   "cell_type": "markdown",
   "id": "8b78e565",
   "metadata": {},
   "source": [
    "### specifying data type\n",
    "the default datatype is floating point(np.float64),we ca explicitly specify the desired data typ\n"
   ]
  },
  {
   "cell_type": "code",
   "execution_count": 17,
   "id": "de189130",
   "metadata": {},
   "outputs": [
    {
     "data": {
      "text/plain": [
       "array([1, 1, 1, 1], dtype=int64)"
      ]
     },
     "execution_count": 17,
     "metadata": {},
     "output_type": "execute_result"
    }
   ],
   "source": [
    "arr = np.ones(4,dtype=np.int64)\n",
    "arr"
   ]
  },
  {
   "cell_type": "markdown",
   "id": "93b871c7",
   "metadata": {},
   "source": [
    "## Adding ,Removing ans Sorting elements"
   ]
  },
  {
   "cell_type": "code",
   "execution_count": 18,
   "id": "63964013",
   "metadata": {},
   "outputs": [
    {
     "data": {
      "text/plain": [
       "array([ 1,  2,  4,  4,  5,  6, 14, 32])"
      ]
     },
     "execution_count": 18,
     "metadata": {},
     "output_type": "execute_result"
    }
   ],
   "source": [
    "arr1 = np.array([2,1,5,6,4,32,14,4])\n",
    "np.sort(arr1)"
   ]
  },
  {
   "cell_type": "code",
   "execution_count": 30,
   "id": "b02a985e",
   "metadata": {},
   "outputs": [
    {
     "data": {
      "text/plain": [
       "array([3, 4, 5, 6, 6, 4, 5, 6, 7, 8])"
      ]
     },
     "execution_count": 30,
     "metadata": {},
     "output_type": "execute_result"
    }
   ],
   "source": [
    "#concatinate\n",
    "\"\"\"\n",
    "double parenthesis are used to create\n",
    "a tuples containing the arrays to be concatinate\n",
    "\"\"\"\n",
    "arr2 = np.array([3,4,5,6,6])               \n",
    "arr3 = np.array([4,5,6,7,8])\n",
    "\n",
    "np.concatenate((arr2,arr3))\n",
    "\n",
    "\n"
   ]
  },
  {
   "cell_type": "code",
   "execution_count": 38,
   "id": "5c485de4",
   "metadata": {},
   "outputs": [
    {
     "data": {
      "text/plain": [
       "array([[1, 2, 2, 3],\n",
       "       [3, 4, 5, 8]])"
      ]
     },
     "execution_count": 38,
     "metadata": {},
     "output_type": "execute_result"
    }
   ],
   "source": [
    "arrr1 = np.array([[1,2],[3,4]])\n",
    "arrr2 = np.array([[2,3],[5,8]])\n",
    "'''\n",
    "axis= 0 represents the concatination happens in rows of array\n",
    "axis =1 represent the concatination will perform along column\n",
    "'''\n",
    "np.concatenate((arrr1,arrr2),axis=1) "
   ]
  },
  {
   "cell_type": "markdown",
   "id": "cf644d92",
   "metadata": {},
   "source": [
    "### how to know the shape and size of array\n",
    "<p>To Find Dimension of array : array_name.ndim<br>\n",
    "    To Find size of array : array_name.size:Total numbers of            elements <br>\n",
    "    To find shape of array : array_name.shape:will display a tuple of integer that indicates the number of elements stored along each dimension</p>\n",
    "    "
   ]
  },
  {
   "cell_type": "code",
   "execution_count": 41,
   "id": "4c73396f",
   "metadata": {},
   "outputs": [
    {
     "data": {
      "text/plain": [
       "3"
      ]
     },
     "execution_count": 41,
     "metadata": {},
     "output_type": "execute_result"
    }
   ],
   "source": [
    "array = np.array([[[0,1,2,3],[4,3,2,1]],[[1,2,3,4],[5,4,3,8]]])\n",
    "array.ndim"
   ]
  },
  {
   "cell_type": "code",
   "execution_count": 42,
   "id": "3eab24a4",
   "metadata": {},
   "outputs": [
    {
     "data": {
      "text/plain": [
       "16"
      ]
     },
     "execution_count": 42,
     "metadata": {},
     "output_type": "execute_result"
    }
   ],
   "source": [
    "array.size"
   ]
  },
  {
   "cell_type": "code",
   "execution_count": 43,
   "id": "3d775260",
   "metadata": {},
   "outputs": [
    {
     "data": {
      "text/plain": [
       "(2, 2, 4)"
      ]
     },
     "execution_count": 43,
     "metadata": {},
     "output_type": "execute_result"
    }
   ],
   "source": [
    "array.shape"
   ]
  },
  {
   "cell_type": "markdown",
   "id": "b222d57c",
   "metadata": {},
   "source": [
    "## Transposing and Reshaping\n",
    "*It is common to need to transpose the matrices.<br>\n",
    "*We need to switch the dimension of matrix\n"
   ]
  },
  {
   "cell_type": "code",
   "execution_count": 3,
   "id": "0c79c1d6",
   "metadata": {},
   "outputs": [
    {
     "data": {
      "text/plain": [
       "array([1, 2, 3, 4, 5, 6])"
      ]
     },
     "execution_count": 3,
     "metadata": {},
     "output_type": "execute_result"
    }
   ],
   "source": [
    "arry  = np.array([1,2,3,4,5,6])\n",
    "arry"
   ]
  },
  {
   "cell_type": "code",
   "execution_count": 4,
   "id": "a5fb2f08",
   "metadata": {},
   "outputs": [
    {
     "data": {
      "text/plain": [
       "array([[1, 2, 3],\n",
       "       [4, 5, 6]])"
      ]
     },
     "execution_count": 4,
     "metadata": {},
     "output_type": "execute_result"
    }
   ],
   "source": [
    "arry.reshape(2,3)"
   ]
  },
  {
   "cell_type": "code",
   "execution_count": 5,
   "id": "7299ae8c",
   "metadata": {},
   "outputs": [
    {
     "data": {
      "text/plain": [
       "array([[1, 2],\n",
       "       [3, 4],\n",
       "       [5, 6]])"
      ]
     },
     "execution_count": 5,
     "metadata": {},
     "output_type": "execute_result"
    }
   ],
   "source": [
    "arry.reshape(3,2)"
   ]
  },
  {
   "cell_type": "code",
   "execution_count": 10,
   "id": "6834c10a",
   "metadata": {},
   "outputs": [
    {
     "data": {
      "text/plain": [
       "array([[0, 1, 2],\n",
       "       [3, 4, 5]])"
      ]
     },
     "execution_count": 10,
     "metadata": {},
     "output_type": "execute_result"
    }
   ],
   "source": [
    "arr=np.arange(6).reshape((2,3))\n",
    "arr"
   ]
  },
  {
   "cell_type": "code",
   "execution_count": 11,
   "id": "ff42708b",
   "metadata": {},
   "outputs": [
    {
     "data": {
      "text/plain": [
       "array([[0, 3],\n",
       "       [1, 4],\n",
       "       [2, 5]])"
      ]
     },
     "execution_count": 11,
     "metadata": {},
     "output_type": "execute_result"
    }
   ],
   "source": [
    "arr.transpose()"
   ]
  },
  {
   "cell_type": "markdown",
   "id": "b320e3bf",
   "metadata": {},
   "source": [
    "### Reversed Array\n"
   ]
  },
  {
   "cell_type": "code",
   "execution_count": 14,
   "id": "d8e8692b",
   "metadata": {},
   "outputs": [
    {
     "name": "stdout",
     "output_type": "stream",
     "text": [
      "[8 7 6 5 4 3 2 1]\n"
     ]
    }
   ],
   "source": [
    "arry = np.array([1,2,3,4,5,6,7,8])\n",
    "reversed_array = np.flip(arry)\n",
    "print(reversed_array)"
   ]
  },
  {
   "cell_type": "code",
   "execution_count": 16,
   "id": "62762277",
   "metadata": {},
   "outputs": [
    {
     "data": {
      "text/plain": [
       "array([[12, 11, 10,  9],\n",
       "       [ 6,  5,  4,  3],\n",
       "       [ 4,  3,  2,  1]])"
      ]
     },
     "execution_count": 16,
     "metadata": {},
     "output_type": "execute_result"
    }
   ],
   "source": [
    "#reversing two dimension array\n",
    "arr = np.array([[1,2,3,4],[3,4,5,6],[9,10,11,12]])\n",
    "reverse_2d = np.flip(arr)\n",
    "reverse_2d\n"
   ]
  },
  {
   "cell_type": "markdown",
   "id": "f4a4b88d",
   "metadata": {},
   "source": [
    "## Saving and Loading numpy objects\n",
    "<p>To save arrays to disk and load them back without re-running code\n",
    "    If you want to store a single ndarray object, store it as a .npy file using np.save. If you want to store more than one ndarray object in a single file, save it as a .npz file using np.savez. You can also save several arrays into a single file in compressed npz format with savez_compressed.</p> \n",
    "    <p>It’s easy to save and load and array with np.save(). Just make sure to specify the array you want to save and a file name.</p>\n",
    "    "
   ]
  },
  {
   "cell_type": "code",
   "execution_count": 17,
   "id": "d14fea60",
   "metadata": {},
   "outputs": [],
   "source": [
    "new_array = np.array([ 4,5,6,7,8,9])\n"
   ]
  },
  {
   "cell_type": "code",
   "execution_count": 20,
   "id": "0255a41d",
   "metadata": {},
   "outputs": [],
   "source": [
    "np.save('npyfiles/newfile',new_array)"
   ]
  },
  {
   "cell_type": "code",
   "execution_count": 23,
   "id": "3ce9519c",
   "metadata": {},
   "outputs": [
    {
     "data": {
      "text/plain": [
       "array([4, 5, 6, 7, 8, 9])"
      ]
     },
     "execution_count": 23,
     "metadata": {},
     "output_type": "execute_result"
    }
   ],
   "source": [
    "load_file = np.load('npyfiles/newfile.npy')\n",
    "load_file"
   ]
  },
  {
   "cell_type": "markdown",
   "id": "fea055fe",
   "metadata": {},
   "source": [
    "### save and load multiple arrays\n",
    "<p>we can save and load multiple array  in single .npyfile using<br>\n",
    "    'savez' and 'Load'\n",
    "    "
   ]
  },
  {
   "cell_type": "code",
   "execution_count": 31,
   "id": "d49b6d0b",
   "metadata": {},
   "outputs": [],
   "source": [
    "array1 = np.array([2,3,4,5,6])\n",
    "array2 = np.array([7,8,9,3])\n",
    "array3 = np.array([[1,2,3],[4,5,6],[7,8,9]])"
   ]
  },
  {
   "cell_type": "code",
   "execution_count": 35,
   "id": "228756a4",
   "metadata": {},
   "outputs": [],
   "source": [
    "np.savez('npyfiles/mutiplearray',array1=array1 ,array2=array2,array3=array3 )"
   ]
  },
  {
   "cell_type": "code",
   "execution_count": 36,
   "id": "0893354c",
   "metadata": {},
   "outputs": [],
   "source": [
    "load_data= np.load(\"npyfiles/mutiplearray.npz\")"
   ]
  },
  {
   "cell_type": "code",
   "execution_count": 39,
   "id": "8cc541c2",
   "metadata": {},
   "outputs": [
    {
     "data": {
      "text/plain": [
       "array([2, 3, 4, 5, 6])"
      ]
     },
     "execution_count": 39,
     "metadata": {},
     "output_type": "execute_result"
    }
   ],
   "source": [
    "load_array1 = load_data['array1']\n",
    "load_array2 = load_data['array2']\n",
    "load_array3 = load_data['array2']\n",
    "load_array1"
   ]
  },
  {
   "cell_type": "code",
   "execution_count": 40,
   "id": "24825b80",
   "metadata": {},
   "outputs": [
    {
     "data": {
      "text/plain": [
       "array([7, 8, 9, 3])"
      ]
     },
     "execution_count": 40,
     "metadata": {},
     "output_type": "execute_result"
    }
   ],
   "source": [
    "load_array3"
   ]
  },
  {
   "cell_type": "markdown",
   "id": "22a30758",
   "metadata": {},
   "source": [
    "## Importing and Exporting a csv\n",
    "<p> It’s simple to read in a CSV that contains existing information. The best and easiest way to do this is to use Pandas.</p>"
   ]
  },
  {
   "cell_type": "code",
   "execution_count": 41,
   "id": "79aeb57d",
   "metadata": {},
   "outputs": [],
   "source": [
    "import pandas as pd"
   ]
  },
  {
   "cell_type": "code",
   "execution_count": 44,
   "id": "d86a73aa",
   "metadata": {
    "collapsed": true
   },
   "outputs": [
    {
     "data": {
      "text/plain": [
       "array([[-2.58289208,  0.43014843, -1.24082018,  1.59572603],\n",
       "       [ 0.99027828,  1.17150989,  0.94125714, -0.14692469],\n",
       "       [ 0.76989341,  0.81299683, -0.95068423,  0.11769564],\n",
       "       [ 0.20484034,  0.34784527,  1.96979195,  0.51992837]])"
      ]
     },
     "execution_count": 44,
     "metadata": {},
     "output_type": "execute_result"
    }
   ],
   "source": [
    "#working by Dataframes\n",
    "array_test = np.array([[-2.58289208,  0.43014843, -1.24082018, 1.59572603],\n",
    "              [ 0.99027828, 1.17150989,  0.94125714, -0.14692469],\n",
    "              [ 0.76989341,  0.81299683, -0.95068423, 0.11769564],\n",
    "              [ 0.20484034,  0.34784527,  1.96979195, 0.51992837]])\n",
    "array_test"
   ]
  },
  {
   "cell_type": "code",
   "execution_count": 47,
   "id": "56def9b9",
   "metadata": {
    "collapsed": true
   },
   "outputs": [
    {
     "name": "stdout",
     "output_type": "stream",
     "text": [
      "          0         1         2         3\n",
      "0 -2.582892  0.430148 -1.240820  1.595726\n",
      "1  0.990278  1.171510  0.941257 -0.146925\n",
      "2  0.769893  0.812997 -0.950684  0.117696\n",
      "3  0.204840  0.347845  1.969792  0.519928\n"
     ]
    }
   ],
   "source": [
    "dataframe = pd.DataFrame(array_test)\n",
    "print(dataframe)"
   ]
  },
  {
   "cell_type": "code",
   "execution_count": 49,
   "id": "a5555b64",
   "metadata": {},
   "outputs": [],
   "source": [
    "dataframe.to_csv(\"pd.csv\")"
   ]
  },
  {
   "cell_type": "code",
   "execution_count": 51,
   "id": "c65670e9",
   "metadata": {},
   "outputs": [
    {
     "data": {
      "text/html": [
       "<div>\n",
       "<style scoped>\n",
       "    .dataframe tbody tr th:only-of-type {\n",
       "        vertical-align: middle;\n",
       "    }\n",
       "\n",
       "    .dataframe tbody tr th {\n",
       "        vertical-align: top;\n",
       "    }\n",
       "\n",
       "    .dataframe thead th {\n",
       "        text-align: right;\n",
       "    }\n",
       "</style>\n",
       "<table border=\"1\" class=\"dataframe\">\n",
       "  <thead>\n",
       "    <tr style=\"text-align: right;\">\n",
       "      <th></th>\n",
       "      <th>Unnamed: 0</th>\n",
       "      <th>0</th>\n",
       "      <th>1</th>\n",
       "      <th>2</th>\n",
       "      <th>3</th>\n",
       "    </tr>\n",
       "  </thead>\n",
       "  <tbody>\n",
       "    <tr>\n",
       "      <th>0</th>\n",
       "      <td>0</td>\n",
       "      <td>-2.582892</td>\n",
       "      <td>0.430148</td>\n",
       "      <td>-1.240820</td>\n",
       "      <td>1.595726</td>\n",
       "    </tr>\n",
       "    <tr>\n",
       "      <th>1</th>\n",
       "      <td>1</td>\n",
       "      <td>0.990278</td>\n",
       "      <td>1.171510</td>\n",
       "      <td>0.941257</td>\n",
       "      <td>-0.146925</td>\n",
       "    </tr>\n",
       "    <tr>\n",
       "      <th>2</th>\n",
       "      <td>2</td>\n",
       "      <td>0.769893</td>\n",
       "      <td>0.812997</td>\n",
       "      <td>-0.950684</td>\n",
       "      <td>0.117696</td>\n",
       "    </tr>\n",
       "    <tr>\n",
       "      <th>3</th>\n",
       "      <td>3</td>\n",
       "      <td>0.204840</td>\n",
       "      <td>0.347845</td>\n",
       "      <td>1.969792</td>\n",
       "      <td>0.519928</td>\n",
       "    </tr>\n",
       "  </tbody>\n",
       "</table>\n",
       "</div>"
      ],
      "text/plain": [
       "   Unnamed: 0         0         1         2         3\n",
       "0           0 -2.582892  0.430148 -1.240820  1.595726\n",
       "1           1  0.990278  1.171510  0.941257 -0.146925\n",
       "2           2  0.769893  0.812997 -0.950684  0.117696\n",
       "3           3  0.204840  0.347845  1.969792  0.519928"
      ]
     },
     "execution_count": 51,
     "metadata": {},
     "output_type": "execute_result"
    }
   ],
   "source": [
    "data = pd.read_csv('pd.csv')\n",
    "data"
   ]
  },
  {
   "cell_type": "markdown",
   "id": "1f83a663",
   "metadata": {},
   "source": [
    "## Plotting arrays with matplotlib\n",
    "<p> if you need to generate a plot for your values, its very simple with matplotlib"
   ]
  },
  {
   "cell_type": "code",
   "execution_count": 52,
   "id": "66d55105",
   "metadata": {},
   "outputs": [],
   "source": [
    "import matplotlib.pyplot as plt"
   ]
  },
  {
   "cell_type": "code",
   "execution_count": 56,
   "id": "70fcbf22",
   "metadata": {},
   "outputs": [
    {
     "data": {
      "text/plain": [
       "[<matplotlib.lines.Line2D at 0x247a31cfc90>]"
      ]
     },
     "execution_count": 56,
     "metadata": {},
     "output_type": "execute_result"
    },
    {
     "data": {
      "image/png": "[encoded data removed]",
      "text/plain": [
       "<Figure size 640x480 with 1 Axes>"
      ]
     },
     "metadata": {},
     "output_type": "display_data"
    }
   ],
   "source": [
    "array2 = np.array([6,1,7,2,8,3,9,4,5])\n",
    "plt.plot(array2)"
   ]
  },
  {
   "cell_type": "code",
   "execution_count": null,
   "id": "518b0a14",
   "metadata": {},
   "outputs": [],
   "source": []
  }
 ],
 "metadata": {
  "kernelspec": {
   "display_name": "Python 3 (ipykernel)",
   "language": "python",
   "name": "python3"
  },
  "language_info": {
   "codemirror_mode": {
    "name": "ipython",
    "version": 3
   },
   "file_extension": ".py",
   "mimetype": "text/x-python",
   "name": "python",
   "nbconvert_exporter": "python",
   "pygments_lexer": "ipython3",
   "version": "3.11.5"
  }
 },
 "nbformat": 4,
 "nbformat_minor": 5
}
