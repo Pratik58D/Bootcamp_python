{
 "cells": [
  {
   "cell_type": "code",
   "execution_count": 1,
   "id": "9dc0f2d3",
   "metadata": {},
   "outputs": [
    {
     "name": "stdout",
     "output_type": "stream",
     "text": [
      "i am pratik\n"
     ]
    }
   ],
   "source": [
    "print(\"i am pratik\")"
   ]
  },
  {
   "cell_type": "code",
   "execution_count": 6,
   "id": "8b5a2064",
   "metadata": {},
   "outputs": [
    {
     "name": "stdout",
     "output_type": "stream",
     "text": [
      "4 \n",
      "pratik\n",
      "4 pratik\n"
     ]
    }
   ],
   "source": [
    "#variables\n",
    "num1 = \"4 \"\n",
    "name =\"pratik\"\n",
    "print(num1)\n",
    "print(name)\n",
    "print( num1+ name)"
   ]
  },
  {
   "cell_type": "code",
   "execution_count": 11,
   "id": "59aa9686",
   "metadata": {},
   "outputs": [
    {
     "name": "stdout",
     "output_type": "stream",
     "text": [
      "hello\tmy name is pratik\n"
     ]
    }
   ],
   "source": [
    "print(\"hello\\tmy name is pratik\")"
   ]
  },
  {
   "cell_type": "code",
   "execution_count": 13,
   "id": "c1082084",
   "metadata": {},
   "outputs": [
    {
     "name": "stdout",
     "output_type": "stream",
     "text": [
      "30\n",
      "10\n"
     ]
    }
   ],
   "source": [
    "#value assign\n",
    "num1,num2,num3=10,20,30\n",
    "print(num3)\n",
    "print(num1)"
   ]
  },
  {
   "cell_type": "code",
   "execution_count": 17,
   "id": "05b66d59",
   "metadata": {},
   "outputs": [
    {
     "name": "stdout",
     "output_type": "stream",
     "text": [
      "pratik\n",
      "pratik\n",
      "pratik\n",
      "<class 'str'>\n"
     ]
    },
    {
     "data": {
      "text/plain": [
       "str"
      ]
     },
     "execution_count": 17,
     "metadata": {},
     "output_type": "execute_result"
    }
   ],
   "source": [
    "#one value to multiple variable \n",
    "name1=name2=name3=\"pratik\"\n",
    "print(name1)\n",
    "print(name2)\n",
    "print(name3)\n",
    "print(type(name1))\n",
    "type(name1)"
   ]
  },
  {
   "cell_type": "code",
   "execution_count": 18,
   "id": "12bcc300",
   "metadata": {},
   "outputs": [
    {
     "name": "stdout",
     "output_type": "stream",
     "text": [
      "dog\n"
     ]
    }
   ],
   "source": [
    "# unpack a colloction\n",
    "\n",
    "animal =[\"cow\",\"dog\",\"bird\"]\n",
    "a1,a2,a3 = animal\n",
    "print(a2)\n"
   ]
  },
  {
   "cell_type": "code",
   "execution_count": 20,
   "id": "ee7561b8",
   "metadata": {},
   "outputs": [
    {
     "name": "stdout",
     "output_type": "stream",
     "text": [
      "my name is  pratik\n",
      "myname is pratik\n"
     ]
    }
   ],
   "source": [
    "#output in python\n",
    "str1=\"my\"\n",
    "str2=\"name is \"\n",
    "str3 =\"pratik\"\n",
    "print(str1,str2,str3)\n",
    "print(str1+str2+str3)"
   ]
  },
  {
   "cell_type": "code",
   "execution_count": 23,
   "id": "e09622c2",
   "metadata": {},
   "outputs": [
    {
     "name": "stdout",
     "output_type": "stream",
     "text": [
      "5  pratik\n"
     ]
    }
   ],
   "source": [
    "num1 = 5\n",
    "str1= \" pratik\"\n",
    "print(num1,str1)"
   ]
  },
  {
   "cell_type": "code",
   "execution_count": 30,
   "id": "2789e778",
   "metadata": {},
   "outputs": [
    {
     "name": "stdout",
     "output_type": "stream",
     "text": [
      "my name is pratik\n"
     ]
    }
   ],
   "source": [
    "#global variables\n",
    "name = \"pratik\"\n",
    "def funcname():\n",
    "    print(\"my name is \"+ name)\n",
    "\n",
    "funcname()\n"
   ]
  },
  {
   "cell_type": "code",
   "execution_count": 31,
   "id": "c3355f14",
   "metadata": {},
   "outputs": [
    {
     "name": "stdout",
     "output_type": "stream",
     "text": [
      "10\n",
      "30\n"
     ]
    }
   ],
   "source": [
    "num = 30    #global variable\n",
    "def myfunc():\n",
    "    num =10    #local variable\n",
    "    print(num)\n",
    "myfunc()\n",
    "print(num)"
   ]
  },
  {
   "cell_type": "code",
   "execution_count": 32,
   "id": "e390c9fa",
   "metadata": {},
   "outputs": [
    {
     "name": "stdout",
     "output_type": "stream",
     "text": [
      "i am devkota\n"
     ]
    }
   ],
   "source": [
    "#local variable with globalkeyword\n",
    "name =\"pratik\"\n",
    "def myfun():\n",
    "    global name\n",
    "    name = \"devkota\"\n",
    "\n",
    "myfun()\n",
    "print(\"i am \"+ name )\n",
    "    \n",
    "        "
   ]
  },
  {
   "cell_type": "code",
   "execution_count": 6,
   "id": "20e21b31",
   "metadata": {},
   "outputs": [
    {
     "name": "stdout",
     "output_type": "stream",
     "text": [
      "my name is  bikash\n",
      "my name is  pratik\n"
     ]
    }
   ],
   "source": [
    "firstname = \"pratik\"  # global variable\n",
    "def name():\n",
    "    firstname = \"bikash\"  #local variable\n",
    "    print(\"my name is \",firstname)\n",
    "\n",
    "name()\n",
    "print(\"my name is \", firstname)"
   ]
  },
  {
   "cell_type": "code",
   "execution_count": 13,
   "id": "cfd2b1c4",
   "metadata": {},
   "outputs": [
    {
     "name": "stdout",
     "output_type": "stream",
     "text": [
      "my name is  bikash\n",
      "my name is   pratik\n"
     ]
    }
   ],
   "source": [
    "fname =\" pratik\"\n",
    "def localtoglobal():\n",
    "    fname = 'bikash'\n",
    "    print(\"my name is \", fname)\n",
    "localtoglobal()\n",
    "print(\"my name is \", fname)"
   ]
  },
  {
   "cell_type": "code",
   "execution_count": 1,
   "id": "b5ca1ec1",
   "metadata": {},
   "outputs": [
    {
     "name": "stdout",
     "output_type": "stream",
     "text": [
      "day2 is about to start\n"
     ]
    }
   ],
   "source": [
    "print(\"day2 is about to start\")"
   ]
  }
 ],
 "metadata": {
  "kernelspec": {
   "display_name": "Python 3 (ipykernel)",
   "language": "python",
   "name": "python3"
  },
  "language_info": {
   "codemirror_mode": {
    "name": "ipython",
    "version": 3
   },
   "file_extension": ".py",
   "mimetype": "text/x-python",
   "name": "python",
   "nbconvert_exporter": "python",
   "pygments_lexer": "ipython3",
   "version": "3.11.5"
  }
 },
 "nbformat": 4,
 "nbformat_minor": 5
}
