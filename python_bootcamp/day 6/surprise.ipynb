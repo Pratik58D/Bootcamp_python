{
 "cells": [
  {
   "cell_type": "markdown",
   "id": "582c83d4",
   "metadata": {},
   "source": [
    "1. first we train the machine\n",
    "2. second we have to test"
   ]
  },
  {
   "cell_type": "code",
   "execution_count": 14,
   "id": "59834a93",
   "metadata": {},
   "outputs": [],
   "source": [
    "import surprise\n",
    "from surprise import KNNWithMeans\n",
    "from surprise import Dataset\n",
    "from surprise import reader\n",
    "import os"
   ]
  },
  {
   "cell_type": "code",
   "execution_count": 8,
   "id": "41ac38a7",
   "metadata": {},
   "outputs": [],
   "source": []
  },
  {
   "cell_type": "code",
   "execution_count": 9,
   "id": "a2940cfb",
   "metadata": {},
   "outputs": [],
   "source": []
  }
 ],
 "metadata": {
  "kernelspec": {
   "display_name": "Python 3 (ipykernel)",
   "language": "python",
   "name": "python3"
  },
  "language_info": {
   "codemirror_mode": {
    "name": "ipython",
    "version": 3
   },
   "file_extension": ".py",
   "mimetype": "text/x-python",
   "name": "python",
   "nbconvert_exporter": "python",
   "pygments_lexer": "ipython3",
   "version": "3.11.5"
  }
 },
 "nbformat": 4,
 "nbformat_minor": 5
}
